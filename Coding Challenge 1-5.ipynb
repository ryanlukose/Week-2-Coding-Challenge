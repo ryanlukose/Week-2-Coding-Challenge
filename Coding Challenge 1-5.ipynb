{
 "cells": [
  {
   "cell_type": "markdown",
   "metadata": {},
   "source": [
    "`1. Write a function that loops over all strings within the collection passed in, and changes all vowels to a dash.`\n",
    "\n",
    "<strong>Example</strong>: [ \"Bob\", \"Vowel\", \"Hello\" ]\n",
    "<br>\n",
    "<strong>Output</strong>: [ \"B-b\", \"V-w-l\", \"H-ll-\" ]"
   ]
  },
  {
   "cell_type": "code",
   "execution_count": 1,
   "metadata": {},
   "outputs": [
    {
     "name": "stdout",
     "output_type": "stream",
     "text": [
      "B-b\n",
      "V-w-l\n",
      "H-ll-\n"
     ]
    }
   ],
   "source": [
    "names = [\"Bob\", \"Vowel\", \"Hello\"]\n",
    "    \n",
    "def removeVowels(a_list):\n",
    "    cleaned_data = []\n",
    "    for name in a_list:\n",
    "    # print(name)\n",
    "        for letter in name:\n",
    "            if letter in name:\n",
    "                if letter in \"aeiou\":\n",
    "                    name = name.replace(letter, '-')\n",
    "        print(name)\n",
    "        \n",
    "removeVowels(names)"
   ]
  },
  {
   "cell_type": "markdown",
   "metadata": {},
   "source": [
    "`2. Write a program which will find all such numbers which are divisible by 7 but are not a multiple of 5, between 2000 and 3200 (both included). The numbers obtained should be printed in a comma-separated sequence on a single line.`"
   ]
  },
  {
   "cell_type": "code",
   "execution_count": 2,
   "metadata": {},
   "outputs": [
    {
     "name": "stdout",
     "output_type": "stream",
     "text": [
      "[2002, 2009, 2016, 2023, 2037, 2044, 2051, 2058, 2072, 2079, 2086, 2093, 2107, 2114, 2121, 2128, 2142, 2149, 2156, 2163, 2177, 2184, 2191, 2198, 2212, 2219, 2226, 2233, 2247, 2254, 2261, 2268, 2282, 2289, 2296, 2303, 2317, 2324, 2331, 2338, 2352, 2359, 2366, 2373, 2387, 2394, 2401, 2408, 2422, 2429, 2436, 2443, 2457, 2464, 2471, 2478, 2492, 2499, 2506, 2513, 2527, 2534, 2541, 2548, 2562, 2569, 2576, 2583, 2597, 2604, 2611, 2618, 2632, 2639, 2646, 2653, 2667, 2674, 2681, 2688, 2702, 2709, 2716, 2723, 2737, 2744, 2751, 2758, 2772, 2779, 2786, 2793, 2807, 2814, 2821, 2828, 2842, 2849, 2856, 2863, 2877, 2884, 2891, 2898, 2912, 2919, 2926, 2933, 2947, 2954, 2961, 2968, 2982, 2989, 2996, 3003, 3017, 3024, 3031, 3038, 3052, 3059, 3066, 3073, 3087, 3094, 3101, 3108, 3122, 3129, 3136, 3143, 3157, 3164, 3171, 3178, 3192, 3199]\n"
     ]
    }
   ],
   "source": [
    "Lst = []\n",
    "for i in range(2000,3201):\n",
    "    if i%7==0 and not i%5==0:\n",
    "        Lst.append(i)\n",
    "print(Lst)"
   ]
  },
  {
   "cell_type": "markdown",
   "metadata": {},
   "source": [
    "`3. Write a program that calculates the number of upper case letters and lower case letters in a sentence.`\n",
    "\n",
    "<strong>Example</strong>: \"Hello world!\"\n",
    "<br>\n",
    "<strong>Output</strong>: <br>\n",
    "UPPER CASE 1\n",
    "<br>\n",
    "LOWER CASE 9"
   ]
  },
  {
   "cell_type": "code",
   "execution_count": 4,
   "metadata": {},
   "outputs": [
    {
     "name": "stdout",
     "output_type": "stream",
     "text": [
      "UPPER CASE 1\n",
      " LOWER CASE 9\n"
     ]
    }
   ],
   "source": [
    "def upper_lower(sentence):\n",
    "    upper = 0\n",
    "    lower = 0\n",
    "    for letter in sentence:\n",
    "        if letter.isupper():\n",
    "            upper += 1\n",
    "        elif letter.islower():\n",
    "            lower += 1\n",
    "        else:\n",
    "            pass\n",
    "    print(f'UPPER CASE {upper}\\n LOWER CASE {lower}')\n",
    "            \n",
    "upper_lower(\"Hello world\")\n",
    "            "
   ]
  },
  {
   "cell_type": "markdown",
   "metadata": {},
   "source": [
    "`4. Write a program that accepts a sentence and calculate the number of letters and digits.`\n",
    "\n",
    "<strong>Example</strong>: \"hello world! 123\"\n",
    "<br>\n",
    "<strong>Output</strong>:<br>\n",
    "LETTERS 10<br>\n",
    "DIGITS 3"
   ]
  },
  {
   "cell_type": "code",
   "execution_count": 5,
   "metadata": {},
   "outputs": [
    {
     "name": "stdout",
     "output_type": "stream",
     "text": [
      "LETTERS 10\n",
      "DIGITS 3\n"
     ]
    }
   ],
   "source": [
    "def letter_digit(sentence):\n",
    "    alpha = 0\n",
    "    digit = 0\n",
    "    for letter in sentence:\n",
    "        if letter.isalpha():\n",
    "                alpha += 1\n",
    "        elif letter.isdigit():\n",
    "                digit += 1\n",
    "        else:\n",
    "                pass\n",
    "    print(f\"LETTERS {alpha}\\nDIGITS {digit}\")\n",
    "            \n",
    "letter_digit(\"Hello world! 123\")\n",
    "            "
   ]
  },
  {
   "cell_type": "markdown",
   "metadata": {},
   "source": [
    "`5. Write a program that creates a pyramid of Xs`\n",
    "\n",
    "<strong>Output</strong>:\n",
    "<br>\n",
    "&nbsp;&nbsp;&nbsp;&nbsp;&nbsp;&nbsp;&nbsp;&nbsp;X<br>\n",
    "&nbsp;&nbsp;&nbsp;&nbsp;&nbsp;&nbsp;XXX<br>\n",
    "&nbsp;&nbsp;&nbsp;&nbsp;XXXXX<br>\n",
    "&nbsp;&nbsp;XXXXXXX<br>\n",
    "XXXXXXXXX<br>"
   ]
  },
  {
   "cell_type": "code",
   "execution_count": 7,
   "metadata": {},
   "outputs": [
    {
     "name": "stdout",
     "output_type": "stream",
     "text": [
      "    X\n",
      "   XXX\n",
      "  XXXXX\n",
      " XXXXXXX\n",
      "XXXXXXXXX\n"
     ]
    }
   ],
   "source": [
    "for i in range(5):\n",
    "    print(' '*(5-i-1) + 'X' * (2*i+1))"
   ]
  },
  {
   "cell_type": "code",
   "execution_count": null,
   "metadata": {},
   "outputs": [],
   "source": []
  }
 ],
 "metadata": {
  "kernelspec": {
   "display_name": "Python 3",
   "language": "python",
   "name": "python3"
  },
  "language_info": {
   "codemirror_mode": {
    "name": "ipython",
    "version": 3
   },
   "file_extension": ".py",
   "mimetype": "text/x-python",
   "name": "python",
   "nbconvert_exporter": "python",
   "pygments_lexer": "ipython3",
   "version": "3.8.3"
  }
 },
 "nbformat": 4,
 "nbformat_minor": 4
}
